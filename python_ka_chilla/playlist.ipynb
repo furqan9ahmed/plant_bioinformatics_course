from pytube import Playlist

p = Playlist('https://www.youtube.com/playlist?list=PL9XvIvvVL50HVsu-Ao8NBr0UJSO8O6lBI')

print(f'Downloading: {p.title}')
for video in p.videos:
    video.streams.get_highest_resolution().download()